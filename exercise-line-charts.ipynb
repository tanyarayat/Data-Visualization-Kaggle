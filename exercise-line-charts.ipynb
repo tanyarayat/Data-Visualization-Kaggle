{
 "cells": [
  {
   "cell_type": "markdown",
   "id": "0491c37e",
   "metadata": {
    "papermill": {
     "duration": 0.013263,
     "end_time": "2021-07-18T19:33:05.325797",
     "exception": false,
     "start_time": "2021-07-18T19:33:05.312534",
     "status": "completed"
    },
    "tags": []
   },
   "source": [
    "**This notebook is an exercise in the [Data Visualization](https://www.kaggle.com/learn/data-visualization) course.  You can reference the tutorial at [this link](https://www.kaggle.com/alexisbcook/line-charts).**\n",
    "\n",
    "---\n"
   ]
  },
  {
   "cell_type": "markdown",
   "id": "889ee695",
   "metadata": {
    "papermill": {
     "duration": 0.011517,
     "end_time": "2021-07-18T19:33:05.350238",
     "exception": false,
     "start_time": "2021-07-18T19:33:05.338721",
     "status": "completed"
    },
    "tags": []
   },
   "source": [
    "In this exercise, you will use your new knowledge to propose a solution to a real-world scenario. To succeed, you will need to import data into Python, answer questions using the data, and generate **line charts** to understand patterns in the data.\n",
    "\n",
    "## Scenario\n",
    "\n",
    "You have recently been hired to manage the museums in the City of Los Angeles. Your first project focuses on the four museums pictured in the images below.\n",
    "\n",
    "![ex1_museums](https://i.imgur.com/pFYL8J1.png)\n",
    "\n",
    "You will leverage data from the Los Angeles [Data Portal](https://data.lacity.org/) that tracks monthly visitors to each museum.  \n",
    "\n",
    "![ex1_xlsx](https://i.imgur.com/mGWYlym.png)\n",
    "\n",
    "## Setup\n",
    "\n",
    "Run the next cell to import and configure the Python libraries that you need to complete the exercise."
   ]
  },
  {
   "cell_type": "code",
   "execution_count": 1,
   "id": "2fb5a914",
   "metadata": {
    "execution": {
     "iopub.execute_input": "2021-07-18T19:33:05.377761Z",
     "iopub.status.busy": "2021-07-18T19:33:05.376796Z",
     "iopub.status.idle": "2021-07-18T19:33:06.258302Z",
     "shell.execute_reply": "2021-07-18T19:33:06.257647Z",
     "shell.execute_reply.started": "2021-07-15T11:52:59.565539Z"
    },
    "papermill": {
     "duration": 0.896533,
     "end_time": "2021-07-18T19:33:06.258443",
     "exception": false,
     "start_time": "2021-07-18T19:33:05.361910",
     "status": "completed"
    },
    "tags": []
   },
   "outputs": [
    {
     "name": "stdout",
     "output_type": "stream",
     "text": [
      "Setup Complete\n"
     ]
    }
   ],
   "source": [
    "import pandas as pd\n",
    "pd.plotting.register_matplotlib_converters()\n",
    "import matplotlib.pyplot as plt\n",
    "%matplotlib inline\n",
    "import seaborn as sns\n",
    "print(\"Setup Complete\")"
   ]
  },
  {
   "cell_type": "markdown",
   "id": "22fda376",
   "metadata": {
    "papermill": {
     "duration": 0.011914,
     "end_time": "2021-07-18T19:33:06.282918",
     "exception": false,
     "start_time": "2021-07-18T19:33:06.271004",
     "status": "completed"
    },
    "tags": []
   },
   "source": [
    "The questions below will give you feedback on your work. Run the following cell to set up the feedback system."
   ]
  },
  {
   "cell_type": "code",
   "execution_count": 2,
   "id": "6cb04ebf",
   "metadata": {
    "execution": {
     "iopub.execute_input": "2021-07-18T19:33:06.311738Z",
     "iopub.status.busy": "2021-07-18T19:33:06.311163Z",
     "iopub.status.idle": "2021-07-18T19:33:06.376801Z",
     "shell.execute_reply": "2021-07-18T19:33:06.377470Z",
     "shell.execute_reply.started": "2021-07-15T11:52:59.60094Z"
    },
    "papermill": {
     "duration": 0.082735,
     "end_time": "2021-07-18T19:33:06.377698",
     "exception": false,
     "start_time": "2021-07-18T19:33:06.294963",
     "status": "completed"
    },
    "tags": []
   },
   "outputs": [
    {
     "name": "stdout",
     "output_type": "stream",
     "text": [
      "Setup Complete\n"
     ]
    }
   ],
   "source": [
    "# Set up code checking\n",
    "import os\n",
    "if not os.path.exists(\"../input/museum_visitors.csv\"):\n",
    "    os.symlink(\"../input/data-for-datavis/museum_visitors.csv\", \"../input/museum_visitors.csv\") \n",
    "from learntools.core import binder\n",
    "binder.bind(globals())\n",
    "from learntools.data_viz_to_coder.ex2 import *\n",
    "print(\"Setup Complete\")"
   ]
  },
  {
   "cell_type": "markdown",
   "id": "bd745f5b",
   "metadata": {
    "papermill": {
     "duration": 0.012169,
     "end_time": "2021-07-18T19:33:06.403230",
     "exception": false,
     "start_time": "2021-07-18T19:33:06.391061",
     "status": "completed"
    },
    "tags": []
   },
   "source": [
    "## Step 1: Load the data\n",
    "\n",
    "Your first assignment is to read the LA Museum Visitors data file into `museum_data`.  Note that:\n",
    "- The filepath to the dataset is stored as `museum_filepath`.  Please **do not** change the provided value of the filepath.\n",
    "- The name of the column to use as row labels is `\"Date\"`.  (This can be seen in cell A1 when the file is opened in Excel.)\n",
    "\n",
    "To help with this, you may find it useful to revisit some relevant code from the tutorial, which we have pasted below:\n",
    "\n",
    "```python\n",
    "# Path of the file to read\n",
    "spotify_filepath = \"../input/spotify.csv\"\n",
    "\n",
    "# Read the file into a variable spotify_data\n",
    "spotify_data = pd.read_csv(spotify_filepath, index_col=\"Date\", parse_dates=True)\n",
    "```\n",
    "\n",
    "The code you need to write now looks very similar!"
   ]
  },
  {
   "cell_type": "code",
   "execution_count": 3,
   "id": "c1c49f31",
   "metadata": {
    "execution": {
     "iopub.execute_input": "2021-07-18T19:33:06.432307Z",
     "iopub.status.busy": "2021-07-18T19:33:06.431448Z",
     "iopub.status.idle": "2021-07-18T19:33:06.444816Z",
     "shell.execute_reply": "2021-07-18T19:33:06.444350Z",
     "shell.execute_reply.started": "2021-07-15T11:52:59.615297Z"
    },
    "papermill": {
     "duration": 0.029329,
     "end_time": "2021-07-18T19:33:06.444952",
     "exception": false,
     "start_time": "2021-07-18T19:33:06.415623",
     "status": "completed"
    },
    "tags": []
   },
   "outputs": [
    {
     "data": {
      "application/javascript": [
       "parent.postMessage({\"jupyterEvent\": \"custom.exercise_interaction\", \"data\": {\"outcomeType\": 1, \"valueTowardsCompletion\": 0.3333333333333333, \"interactionType\": 1, \"questionType\": 1, \"questionId\": \"1_LoadMuseumData\", \"learnToolsVersion\": \"0.3.4\", \"failureMessage\": \"\", \"exceptionClass\": \"\", \"trace\": \"\"}}, \"*\")"
      ],
      "text/plain": [
       "<IPython.core.display.Javascript object>"
      ]
     },
     "metadata": {},
     "output_type": "display_data"
    },
    {
     "data": {
      "text/markdown": [
       "<span style=\"color:#33cc33\">Correct</span>"
      ],
      "text/plain": [
       "Correct"
      ]
     },
     "metadata": {},
     "output_type": "display_data"
    }
   ],
   "source": [
    "# Path of the file to read\n",
    "museum_filepath = \"../input/museum_visitors.csv\"\n",
    "\n",
    "# Fill in the line below to read the file into a variable museum_data\n",
    "museum_data = pd.read_csv(museum_filepath,index_col=\"Date\", parse_dates=True)\n",
    "\n",
    "# Run the line below with no changes to check that you've loaded the data correctly\n",
    "step_1.check()"
   ]
  },
  {
   "cell_type": "code",
   "execution_count": 4,
   "id": "a8a5ba0a",
   "metadata": {
    "execution": {
     "iopub.execute_input": "2021-07-18T19:33:06.475216Z",
     "iopub.status.busy": "2021-07-18T19:33:06.474691Z",
     "iopub.status.idle": "2021-07-18T19:33:06.477243Z",
     "shell.execute_reply": "2021-07-18T19:33:06.477700Z",
     "shell.execute_reply.started": "2021-07-15T11:52:59.645725Z"
    },
    "papermill": {
     "duration": 0.019274,
     "end_time": "2021-07-18T19:33:06.477835",
     "exception": false,
     "start_time": "2021-07-18T19:33:06.458561",
     "status": "completed"
    },
    "tags": []
   },
   "outputs": [],
   "source": [
    "# Uncomment the line below to receive a hint\n",
    "#step_1.hint()\n",
    "# Uncomment the line below to see the solution\n",
    "#step_1.solution()"
   ]
  },
  {
   "cell_type": "markdown",
   "id": "6be5875f",
   "metadata": {
    "papermill": {
     "duration": 0.013065,
     "end_time": "2021-07-18T19:33:06.503890",
     "exception": false,
     "start_time": "2021-07-18T19:33:06.490825",
     "status": "completed"
    },
    "tags": []
   },
   "source": [
    "## Step 2: Review the data\n",
    "\n",
    "Use a Python command to print the last 5 rows of the data."
   ]
  },
  {
   "cell_type": "code",
   "execution_count": 5,
   "id": "7190e4ae",
   "metadata": {
    "execution": {
     "iopub.execute_input": "2021-07-18T19:33:06.534667Z",
     "iopub.status.busy": "2021-07-18T19:33:06.534092Z",
     "iopub.status.idle": "2021-07-18T19:33:06.547231Z",
     "shell.execute_reply": "2021-07-18T19:33:06.546782Z",
     "shell.execute_reply.started": "2021-07-15T11:52:59.679928Z"
    },
    "papermill": {
     "duration": 0.030461,
     "end_time": "2021-07-18T19:33:06.547357",
     "exception": false,
     "start_time": "2021-07-18T19:33:06.516896",
     "status": "completed"
    },
    "tags": []
   },
   "outputs": [
    {
     "data": {
      "text/html": [
       "<div>\n",
       "<style scoped>\n",
       "    .dataframe tbody tr th:only-of-type {\n",
       "        vertical-align: middle;\n",
       "    }\n",
       "\n",
       "    .dataframe tbody tr th {\n",
       "        vertical-align: top;\n",
       "    }\n",
       "\n",
       "    .dataframe thead th {\n",
       "        text-align: right;\n",
       "    }\n",
       "</style>\n",
       "<table border=\"1\" class=\"dataframe\">\n",
       "  <thead>\n",
       "    <tr style=\"text-align: right;\">\n",
       "      <th></th>\n",
       "      <th>Avila Adobe</th>\n",
       "      <th>Firehouse Museum</th>\n",
       "      <th>Chinese American Museum</th>\n",
       "      <th>America Tropical Interpretive Center</th>\n",
       "    </tr>\n",
       "    <tr>\n",
       "      <th>Date</th>\n",
       "      <th></th>\n",
       "      <th></th>\n",
       "      <th></th>\n",
       "      <th></th>\n",
       "    </tr>\n",
       "  </thead>\n",
       "  <tbody>\n",
       "    <tr>\n",
       "      <th>2014-01-01</th>\n",
       "      <td>24778</td>\n",
       "      <td>4486</td>\n",
       "      <td>1581</td>\n",
       "      <td>6602</td>\n",
       "    </tr>\n",
       "    <tr>\n",
       "      <th>2014-02-01</th>\n",
       "      <td>18976</td>\n",
       "      <td>4172</td>\n",
       "      <td>1785</td>\n",
       "      <td>5029</td>\n",
       "    </tr>\n",
       "    <tr>\n",
       "      <th>2014-03-01</th>\n",
       "      <td>25231</td>\n",
       "      <td>7082</td>\n",
       "      <td>3229</td>\n",
       "      <td>8129</td>\n",
       "    </tr>\n",
       "    <tr>\n",
       "      <th>2014-04-01</th>\n",
       "      <td>26989</td>\n",
       "      <td>6756</td>\n",
       "      <td>2129</td>\n",
       "      <td>2824</td>\n",
       "    </tr>\n",
       "    <tr>\n",
       "      <th>2014-05-01</th>\n",
       "      <td>36883</td>\n",
       "      <td>10858</td>\n",
       "      <td>3676</td>\n",
       "      <td>10694</td>\n",
       "    </tr>\n",
       "  </tbody>\n",
       "</table>\n",
       "</div>"
      ],
      "text/plain": [
       "            Avila Adobe  Firehouse Museum  Chinese American Museum  \\\n",
       "Date                                                                 \n",
       "2014-01-01        24778              4486                     1581   \n",
       "2014-02-01        18976              4172                     1785   \n",
       "2014-03-01        25231              7082                     3229   \n",
       "2014-04-01        26989              6756                     2129   \n",
       "2014-05-01        36883             10858                     3676   \n",
       "\n",
       "            America Tropical Interpretive Center  \n",
       "Date                                              \n",
       "2014-01-01                                  6602  \n",
       "2014-02-01                                  5029  \n",
       "2014-03-01                                  8129  \n",
       "2014-04-01                                  2824  \n",
       "2014-05-01                                 10694  "
      ]
     },
     "execution_count": 5,
     "metadata": {},
     "output_type": "execute_result"
    }
   ],
   "source": [
    "# Print the last five rows of the data \n",
    "# Your code here\n",
    "museum_data.head()"
   ]
  },
  {
   "cell_type": "markdown",
   "id": "b9f334af",
   "metadata": {
    "papermill": {
     "duration": 0.013106,
     "end_time": "2021-07-18T19:33:06.574129",
     "exception": false,
     "start_time": "2021-07-18T19:33:06.561023",
     "status": "completed"
    },
    "tags": []
   },
   "source": [
    "The last row (for `2018-11-01`) tracks the number of visitors to each museum in November 2018, the next-to-last row (for `2018-10-01`) tracks the number of visitors to each museum in October 2018, _and so on_.\n",
    "\n",
    "Use the last 5 rows of the data to answer the questions below."
   ]
  },
  {
   "cell_type": "code",
   "execution_count": 6,
   "id": "7a75ed60",
   "metadata": {
    "execution": {
     "iopub.execute_input": "2021-07-18T19:33:06.606955Z",
     "iopub.status.busy": "2021-07-18T19:33:06.606412Z",
     "iopub.status.idle": "2021-07-18T19:33:06.610481Z",
     "shell.execute_reply": "2021-07-18T19:33:06.611014Z",
     "shell.execute_reply.started": "2021-07-15T11:52:59.706661Z"
    },
    "papermill": {
     "duration": 0.022753,
     "end_time": "2021-07-18T19:33:06.611152",
     "exception": false,
     "start_time": "2021-07-18T19:33:06.588399",
     "status": "completed"
    },
    "tags": []
   },
   "outputs": [
    {
     "data": {
      "application/javascript": [
       "parent.postMessage({\"jupyterEvent\": \"custom.exercise_interaction\", \"data\": {\"outcomeType\": 1, \"valueTowardsCompletion\": 0.3333333333333333, \"interactionType\": 1, \"questionType\": 1, \"questionId\": \"2_ReviewData\", \"learnToolsVersion\": \"0.3.4\", \"failureMessage\": \"\", \"exceptionClass\": \"\", \"trace\": \"\"}}, \"*\")"
      ],
      "text/plain": [
       "<IPython.core.display.Javascript object>"
      ]
     },
     "metadata": {},
     "output_type": "display_data"
    },
    {
     "data": {
      "text/markdown": [
       "<span style=\"color:#33cc33\">Correct</span>"
      ],
      "text/plain": [
       "Correct"
      ]
     },
     "metadata": {},
     "output_type": "display_data"
    }
   ],
   "source": [
    "museum_data.tail()\n",
    "# Fill in the line below: How many visitors did the Chinese American Museum \n",
    "# receive in July 2018?\n",
    "ca_museum_jul18 = 2620 \n",
    "\n",
    "# Fill in the line below: In October 2018, how many more visitors did Avila \n",
    "# Adobe receive than the Firehouse Museum?\n",
    "avila_oct18 = 14658\n",
    "\n",
    "# Check your answers\n",
    "step_2.check()"
   ]
  },
  {
   "cell_type": "code",
   "execution_count": 7,
   "id": "af773629",
   "metadata": {
    "execution": {
     "iopub.execute_input": "2021-07-18T19:33:06.641428Z",
     "iopub.status.busy": "2021-07-18T19:33:06.640930Z",
     "iopub.status.idle": "2021-07-18T19:33:06.643579Z",
     "shell.execute_reply": "2021-07-18T19:33:06.644134Z",
     "shell.execute_reply.started": "2021-07-15T11:52:59.72272Z"
    },
    "papermill": {
     "duration": 0.019006,
     "end_time": "2021-07-18T19:33:06.644267",
     "exception": false,
     "start_time": "2021-07-18T19:33:06.625261",
     "status": "completed"
    },
    "tags": []
   },
   "outputs": [],
   "source": [
    "# Lines below will give you a hint or solution code\n",
    "#step_2.hint()\n",
    "#step_2.solution()"
   ]
  },
  {
   "cell_type": "markdown",
   "id": "b031b5d2",
   "metadata": {
    "papermill": {
     "duration": 0.013968,
     "end_time": "2021-07-18T19:33:06.672274",
     "exception": false,
     "start_time": "2021-07-18T19:33:06.658306",
     "status": "completed"
    },
    "tags": []
   },
   "source": [
    "## Step 3: Convince the museum board \n",
    "\n",
    "The Firehouse Museum claims they ran an event in 2014 that brought an incredible number of visitors, and that they should get extra budget to run a similar event again.  The other museums think these types of events aren't that important, and budgets should be split purely based on recent visitors on an average day.  \n",
    "\n",
    "To show the museum board how the event compared to regular traffic at each museum, create a line chart that shows how the number of visitors to each museum evolved over time.  Your figure should have four lines (one for each museum).\n",
    "\n",
    "> **(Optional) Note**: If you have some prior experience with plotting figures in Python, you might be familiar with the `plt.show()` command.  If you decide to use this command, please place it **after** the line of code that checks your answer (in this case, place it after `step_3.check()` below) -- otherwise, the checking code will return an error!"
   ]
  },
  {
   "cell_type": "code",
   "execution_count": 8,
   "id": "7a77e05e",
   "metadata": {
    "execution": {
     "iopub.execute_input": "2021-07-18T19:33:06.703026Z",
     "iopub.status.busy": "2021-07-18T19:33:06.702481Z",
     "iopub.status.idle": "2021-07-18T19:33:07.068037Z",
     "shell.execute_reply": "2021-07-18T19:33:07.068546Z",
     "shell.execute_reply.started": "2021-07-15T11:52:59.736504Z"
    },
    "papermill": {
     "duration": 0.382219,
     "end_time": "2021-07-18T19:33:07.068730",
     "exception": false,
     "start_time": "2021-07-18T19:33:06.686511",
     "status": "completed"
    },
    "tags": []
   },
   "outputs": [
    {
     "data": {
      "application/javascript": [
       "parent.postMessage({\"jupyterEvent\": \"custom.exercise_interaction\", \"data\": {\"outcomeType\": 1, \"valueTowardsCompletion\": 0.3333333333333333, \"interactionType\": 1, \"questionType\": 2, \"questionId\": \"3_PlotAll\", \"learnToolsVersion\": \"0.3.4\", \"failureMessage\": \"\", \"exceptionClass\": \"\", \"trace\": \"\"}}, \"*\")"
      ],
      "text/plain": [
       "<IPython.core.display.Javascript object>"
      ]
     },
     "metadata": {},
     "output_type": "display_data"
    },
    {
     "data": {
      "text/markdown": [
       "<span style=\"color:#33cc33\">Correct</span>"
      ],
      "text/plain": [
       "Correct"
      ]
     },
     "metadata": {},
     "output_type": "display_data"
    },
    {
     "data": {
      "image/png": "[encoded data removed]",
      "text/plain": [
       "<Figure size 720x288 with 1 Axes>"
      ]
     },
     "metadata": {
      "needs_background": "light"
     },
     "output_type": "display_data"
    }
   ],
   "source": [
    "# Line chart showing the number of visitors to each museum over time\n",
    "plt.figure(figsize=(10,4))\n",
    "sns.lineplot(data=museum_data) # Your code here\n",
    "plt.title(\"Monthly visitors to Museum\")\n",
    "# Check your answer\n",
    "step_3.check()"
   ]
  },
  {
   "cell_type": "code",
   "execution_count": 9,
   "id": "a63e2297",
   "metadata": {
    "execution": {
     "iopub.execute_input": "2021-07-18T19:33:07.105791Z",
     "iopub.status.busy": "2021-07-18T19:33:07.105258Z",
     "iopub.status.idle": "2021-07-18T19:33:07.107896Z",
     "shell.execute_reply": "2021-07-18T19:33:07.108367Z",
     "shell.execute_reply.started": "2021-07-15T11:53:00.214812Z"
    },
    "papermill": {
     "duration": 0.021685,
     "end_time": "2021-07-18T19:33:07.108499",
     "exception": false,
     "start_time": "2021-07-18T19:33:07.086814",
     "status": "completed"
    },
    "tags": []
   },
   "outputs": [],
   "source": [
    "# Lines below will give you a hint or solution code\n",
    "#step_3.hint()\n",
    "#step_3.solution_plot()"
   ]
  },
  {
   "cell_type": "markdown",
   "id": "c56b78a4",
   "metadata": {
    "papermill": {
     "duration": 0.016683,
     "end_time": "2021-07-18T19:33:07.141808",
     "exception": false,
     "start_time": "2021-07-18T19:33:07.125125",
     "status": "completed"
    },
    "tags": []
   },
   "source": [
    "## Step 4: Assess seasonality\n",
    "\n",
    "When meeting with the employees at Avila Adobe, you hear that one major pain point is that the number of museum visitors varies greatly with the seasons, with low seasons (when the employees are perfectly staffed and happy) and also high seasons (when the employees are understaffed and stressed).  You realize that if you can predict these high and low seasons, you can plan ahead to hire some additional seasonal employees to help out with the extra work.\n",
    "\n",
    "#### Part A\n",
    "Create a line chart that shows how the number of visitors to Avila Adobe has evolved over time.  (_If your code returns an error, the first thing that you should check is that you've spelled the name of the column correctly!  You must write the name of the column exactly as it appears in the dataset._)"
   ]
  },
  {
   "cell_type": "code",
   "execution_count": 10,
   "id": "53313b5e",
   "metadata": {
    "execution": {
     "iopub.execute_input": "2021-07-18T19:33:07.177495Z",
     "iopub.status.busy": "2021-07-18T19:33:07.176972Z",
     "iopub.status.idle": "2021-07-18T19:33:07.361027Z",
     "shell.execute_reply": "2021-07-18T19:33:07.361480Z",
     "shell.execute_reply.started": "2021-07-15T11:53:00.219929Z"
    },
    "papermill": {
     "duration": 0.203203,
     "end_time": "2021-07-18T19:33:07.361664",
     "exception": false,
     "start_time": "2021-07-18T19:33:07.158461",
     "status": "completed"
    },
    "tags": []
   },
   "outputs": [
    {
     "name": "stdout",
     "output_type": "stream",
     "text": [
      "Thank you for creating a line chart!  To see how your code compares to the official solution, please use the code cell below.\n"
     ]
    },
    {
     "data": {
      "application/javascript": [
       "parent.postMessage({\"jupyterEvent\": \"custom.exercise_interaction\", \"data\": {\"outcomeType\": 1, \"valueTowardsCompletion\": 0.3333333333333333, \"interactionType\": 1, \"questionType\": 2, \"questionId\": \"4.1_PlotAvila\", \"learnToolsVersion\": \"0.3.4\", \"failureMessage\": \"\", \"exceptionClass\": \"\", \"trace\": \"\"}}, \"*\")"
      ],
      "text/plain": [
       "<IPython.core.display.Javascript object>"
      ]
     },
     "metadata": {},
     "output_type": "display_data"
    },
    {
     "data": {
      "text/markdown": [
       "<span style=\"color:#33cc33\">Correct</span>"
      ],
      "text/plain": [
       "Correct"
      ]
     },
     "metadata": {},
     "output_type": "display_data"
    },
    {
     "data": {
      "image/png": "[encoded data removed]",
      "text/plain": [
       "<Figure size 720x288 with 1 Axes>"
      ]
     },
     "metadata": {
      "needs_background": "light"
     },
     "output_type": "display_data"
    }
   ],
   "source": [
    "# Line plot showing the number of visitors to Avila Adobe over time\n",
    "plt.figure(figsize=(10,4))\n",
    "sns.lineplot(data=museum_data['Avila Adobe']) # Your code here\n",
    "plt.title(\"Number of visitors to Avila Adobe over the time\")\n",
    "\n",
    "# Check your answer\n",
    "step_4.a.check()"
   ]
  },
  {
   "cell_type": "code",
   "execution_count": 11,
   "id": "9e82e720",
   "metadata": {
    "execution": {
     "iopub.execute_input": "2021-07-18T19:33:07.412228Z",
     "iopub.status.busy": "2021-07-18T19:33:07.411398Z",
     "iopub.status.idle": "2021-07-18T19:33:07.414648Z",
     "shell.execute_reply": "2021-07-18T19:33:07.413845Z",
     "shell.execute_reply.started": "2021-07-15T11:53:00.448287Z"
    },
    "papermill": {
     "duration": 0.025813,
     "end_time": "2021-07-18T19:33:07.414821",
     "exception": false,
     "start_time": "2021-07-18T19:33:07.389008",
     "status": "completed"
    },
    "tags": []
   },
   "outputs": [],
   "source": [
    "# Lines below will give you a hint or solution code\n",
    "#step_4.a.hint()\n",
    "#step_4.a.solution_plot()"
   ]
  },
  {
   "cell_type": "markdown",
   "id": "b1a36d1c",
   "metadata": {
    "papermill": {
     "duration": 0.022155,
     "end_time": "2021-07-18T19:33:07.460512",
     "exception": false,
     "start_time": "2021-07-18T19:33:07.438357",
     "status": "completed"
    },
    "tags": []
   },
   "source": [
    "#### Part B\n",
    "\n",
    "Does Avila Adobe get more visitors:\n",
    "- in September-February (in LA, the fall and winter months), or \n",
    "- in March-August (in LA, the spring and summer)?  \n",
    "\n",
    "Using this information, when should the museum staff additional seasonal employees?"
   ]
  },
  {
   "cell_type": "code",
   "execution_count": 12,
   "id": "33bcd390",
   "metadata": {
    "execution": {
     "iopub.execute_input": "2021-07-18T19:33:07.502712Z",
     "iopub.status.busy": "2021-07-18T19:33:07.501912Z",
     "iopub.status.idle": "2021-07-18T19:33:07.504088Z",
     "shell.execute_reply": "2021-07-18T19:33:07.504612Z",
     "shell.execute_reply.started": "2021-07-15T11:53:00.453103Z"
    },
    "papermill": {
     "duration": 0.025197,
     "end_time": "2021-07-18T19:33:07.504759",
     "exception": false,
     "start_time": "2021-07-18T19:33:07.479562",
     "status": "completed"
    },
    "tags": []
   },
   "outputs": [],
   "source": [
    "#step_4.b.hint()"
   ]
  },
  {
   "cell_type": "code",
   "execution_count": 13,
   "id": "314774f6",
   "metadata": {
    "execution": {
     "iopub.execute_input": "2021-07-18T19:33:07.545377Z",
     "iopub.status.busy": "2021-07-18T19:33:07.544522Z",
     "iopub.status.idle": "2021-07-18T19:33:07.551987Z",
     "shell.execute_reply": "2021-07-18T19:33:07.551519Z",
     "shell.execute_reply.started": "2021-07-15T11:53:00.467149Z"
    },
    "papermill": {
     "duration": 0.028535,
     "end_time": "2021-07-18T19:33:07.552114",
     "exception": false,
     "start_time": "2021-07-18T19:33:07.523579",
     "status": "completed"
    },
    "tags": []
   },
   "outputs": [
    {
     "data": {
      "application/javascript": [
       "parent.postMessage({\"jupyterEvent\": \"custom.exercise_interaction\", \"data\": {\"interactionType\": 3, \"questionType\": 4, \"questionId\": \"4.2_ThinkAvila\", \"learnToolsVersion\": \"0.3.4\", \"valueTowardsCompletion\": 0.0, \"failureMessage\": \"\", \"exceptionClass\": \"\", \"trace\": \"\", \"outcomeType\": 4}}, \"*\")"
      ],
      "text/plain": [
       "<IPython.core.display.Javascript object>"
      ]
     },
     "metadata": {},
     "output_type": "display_data"
    },
    {
     "data": {
      "text/markdown": [
       "<span style=\"color:#33cc99\">Solution:</span> The line chart generally dips to relatively low values around the early part of each year (in December and January), and reaches its highest values in the middle of the year (especially around May and June).  Thus, Avila Adobe usually gets more visitors in March-August (or the spring and summer months).  With this in mind, Avila Adobe could definitely benefit from hiring more seasonal employees to help with the extra work in March-August (the spring and summer)!"
      ],
      "text/plain": [
       "Solution: The line chart generally dips to relatively low values around the early part of each year (in December and January), and reaches its highest values in the middle of the year (especially around May and June).  Thus, Avila Adobe usually gets more visitors in March-August (or the spring and summer months).  With this in mind, Avila Adobe could definitely benefit from hiring more seasonal employees to help with the extra work in March-August (the spring and summer)!"
      ]
     },
     "metadata": {},
     "output_type": "display_data"
    }
   ],
   "source": [
    "# Check your answer (Run this code cell to receive credit!)\n",
    "step_4.b.solution()"
   ]
  },
  {
   "cell_type": "markdown",
   "id": "aa23570d",
   "metadata": {
    "papermill": {
     "duration": 0.019095,
     "end_time": "2021-07-18T19:33:07.590841",
     "exception": false,
     "start_time": "2021-07-18T19:33:07.571746",
     "status": "completed"
    },
    "tags": []
   },
   "source": [
    "# Keep going\n",
    "\n",
    "Move on to learn about **[bar charts and heatmaps](https://www.kaggle.com/alexisbcook/bar-charts-and-heatmaps)** with a new dataset!"
   ]
  },
  {
   "cell_type": "markdown",
   "id": "a4093fec",
   "metadata": {
    "papermill": {
     "duration": 0.019147,
     "end_time": "2021-07-18T19:33:07.629409",
     "exception": false,
     "start_time": "2021-07-18T19:33:07.610262",
     "status": "completed"
    },
    "tags": []
   },
   "source": [
    "---\n",
    "\n",
    "\n",
    "\n",
    "\n",
    "*Have questions or comments? Visit the [Learn Discussion forum](https://www.kaggle.com/learn-forum/161291) to chat with other Learners.*"
   ]
  }
 ],
 "metadata": {
  "kernelspec": {
   "display_name": "Python 3",
   "language": "python",
   "name": "python3"
  },
  "language_info": {
   "codemirror_mode": {
    "name": "ipython",
    "version": 3
   },
   "file_extension": ".py",
   "mimetype": "text/x-python",
   "name": "python",
   "nbconvert_exporter": "python",
   "pygments_lexer": "ipython3",
   "version": "3.7.10"
  },
  "papermill": {
   "default_parameters": {},
   "duration": 9.461656,
   "end_time": "2021-07-18T19:33:08.257225",
   "environment_variables": {},
   "exception": null,
   "input_path": "__notebook__.ipynb",
   "output_path": "__notebook__.ipynb",
   "parameters": {},
   "start_time": "2021-07-18T19:32:58.795569",
   "version": "2.3.3"
  }
 },
 "nbformat": 4,
 "nbformat_minor": 5
}
