{
 "cells": [
  {
   "cell_type": "markdown",
   "id": "e9745c32",
   "metadata": {
    "papermill": {
     "duration": 0.037065,
     "end_time": "2021-07-18T19:36:21.121544",
     "exception": false,
     "start_time": "2021-07-18T19:36:21.084479",
     "status": "completed"
    },
    "tags": []
   },
   "source": [
    "**This notebook is an exercise in the [Data Visualization](https://www.kaggle.com/learn/data-visualization) course.  You can reference the tutorial at [this link](https://www.kaggle.com/alexisbcook/scatter-plots).**\n",
    "\n",
    "---\n"
   ]
  },
  {
   "cell_type": "markdown",
   "id": "51822dfa",
   "metadata": {
    "papermill": {
     "duration": 0.028352,
     "end_time": "2021-07-18T19:36:21.179027",
     "exception": false,
     "start_time": "2021-07-18T19:36:21.150675",
     "status": "completed"
    },
    "tags": []
   },
   "source": [
    "In this exercise, you will use your new knowledge to propose a solution to a real-world scenario.  To succeed, you will need to import data into Python, answer questions using the data, and generate **scatter plots** to understand patterns in the data.\n",
    "\n",
    "## Scenario\n",
    "\n",
    "You work for a major candy producer, and your goal is to write a report that your company can use to guide the design of its next product.  Soon after starting your research, you stumble across this [very interesting dataset](https://fivethirtyeight.com/features/the-ultimate-halloween-candy-power-ranking/) containing results from a fun survey to crowdsource favorite candies.\n",
    "\n",
    "## Setup\n",
    "\n",
    "Run the next cell to import and configure the Python libraries that you need to complete the exercise."
   ]
  },
  {
   "cell_type": "code",
   "execution_count": 1,
   "id": "0476f1ee",
   "metadata": {
    "execution": {
     "iopub.execute_input": "2021-07-18T19:36:21.242301Z",
     "iopub.status.busy": "2021-07-18T19:36:21.240457Z",
     "iopub.status.idle": "2021-07-18T19:36:22.374304Z",
     "shell.execute_reply": "2021-07-18T19:36:22.373492Z",
     "shell.execute_reply.started": "2021-07-15T16:45:15.072849Z"
    },
    "papermill": {
     "duration": 1.166929,
     "end_time": "2021-07-18T19:36:22.374480",
     "exception": false,
     "start_time": "2021-07-18T19:36:21.207551",
     "status": "completed"
    },
    "tags": []
   },
   "outputs": [
    {
     "name": "stdout",
     "output_type": "stream",
     "text": [
      "Setup Complete\n"
     ]
    }
   ],
   "source": [
    "import pandas as pd\n",
    "pd.plotting.register_matplotlib_converters()\n",
    "import matplotlib.pyplot as plt\n",
    "%matplotlib inline\n",
    "import seaborn as sns\n",
    "print(\"Setup Complete\")"
   ]
  },
  {
   "cell_type": "markdown",
   "id": "6a80491d",
   "metadata": {
    "papermill": {
     "duration": 0.02854,
     "end_time": "2021-07-18T19:36:22.433053",
     "exception": false,
     "start_time": "2021-07-18T19:36:22.404513",
     "status": "completed"
    },
    "tags": []
   },
   "source": [
    "The questions below will give you feedback on your work. Run the following cell to set up our feedback system."
   ]
  },
  {
   "cell_type": "code",
   "execution_count": 2,
   "id": "4332f5f3",
   "metadata": {
    "execution": {
     "iopub.execute_input": "2021-07-18T19:36:22.497307Z",
     "iopub.status.busy": "2021-07-18T19:36:22.496505Z",
     "iopub.status.idle": "2021-07-18T19:36:22.576330Z",
     "shell.execute_reply": "2021-07-18T19:36:22.576799Z",
     "shell.execute_reply.started": "2021-07-15T16:45:15.08283Z"
    },
    "papermill": {
     "duration": 0.114865,
     "end_time": "2021-07-18T19:36:22.577003",
     "exception": false,
     "start_time": "2021-07-18T19:36:22.462138",
     "status": "completed"
    },
    "tags": []
   },
   "outputs": [
    {
     "name": "stdout",
     "output_type": "stream",
     "text": [
      "Setup Complete\n"
     ]
    }
   ],
   "source": [
    "# Set up code checking\n",
    "import os\n",
    "if not os.path.exists(\"../input/candy.csv\"):\n",
    "    os.symlink(\"../input/data-for-datavis/candy.csv\", \"../input/candy.csv\") \n",
    "from learntools.core import binder\n",
    "binder.bind(globals())\n",
    "from learntools.data_viz_to_coder.ex4 import *\n",
    "print(\"Setup Complete\")"
   ]
  },
  {
   "cell_type": "markdown",
   "id": "ac9609bd",
   "metadata": {
    "papermill": {
     "duration": 0.029741,
     "end_time": "2021-07-18T19:36:22.636791",
     "exception": false,
     "start_time": "2021-07-18T19:36:22.607050",
     "status": "completed"
    },
    "tags": []
   },
   "source": [
    "## Step 1: Load the Data\n",
    "\n",
    "Read the candy data file into `candy_data`.  Use the `\"id\"` column to label the rows."
   ]
  },
  {
   "cell_type": "code",
   "execution_count": 3,
   "id": "3f33c6db",
   "metadata": {
    "execution": {
     "iopub.execute_input": "2021-07-18T19:36:22.701917Z",
     "iopub.status.busy": "2021-07-18T19:36:22.701231Z",
     "iopub.status.idle": "2021-07-18T19:36:22.715993Z",
     "shell.execute_reply": "2021-07-18T19:36:22.715327Z",
     "shell.execute_reply.started": "2021-07-15T16:45:15.100941Z"
    },
    "papermill": {
     "duration": 0.050221,
     "end_time": "2021-07-18T19:36:22.716151",
     "exception": false,
     "start_time": "2021-07-18T19:36:22.665930",
     "status": "completed"
    },
    "tags": []
   },
   "outputs": [
    {
     "data": {
      "application/javascript": [
       "parent.postMessage({\"jupyterEvent\": \"custom.exercise_interaction\", \"data\": {\"outcomeType\": 1, \"valueTowardsCompletion\": 0.3333333333333333, \"interactionType\": 1, \"questionType\": 1, \"questionId\": \"1_LoadData\", \"learnToolsVersion\": \"0.3.4\", \"failureMessage\": \"\", \"exceptionClass\": \"\", \"trace\": \"\"}}, \"*\")"
      ],
      "text/plain": [
       "<IPython.core.display.Javascript object>"
      ]
     },
     "metadata": {},
     "output_type": "display_data"
    },
    {
     "data": {
      "text/markdown": [
       "<span style=\"color:#33cc33\">Correct</span>"
      ],
      "text/plain": [
       "Correct"
      ]
     },
     "metadata": {},
     "output_type": "display_data"
    }
   ],
   "source": [
    "# Path of the file to read\n",
    "candy_filepath = \"../input/candy.csv\"\n",
    "\n",
    "# Fill in the line below to read the file into a variable candy_data\n",
    "candy_data =pd.read_csv(candy_filepath,index_col=\"id\")\n",
    "\n",
    "# Run the line below with no changes to check that you've loaded the data correctly\n",
    "step_1.check()"
   ]
  },
  {
   "cell_type": "code",
   "execution_count": 4,
   "id": "c1d5dbbd",
   "metadata": {
    "execution": {
     "iopub.execute_input": "2021-07-18T19:36:22.781220Z",
     "iopub.status.busy": "2021-07-18T19:36:22.780521Z",
     "iopub.status.idle": "2021-07-18T19:36:22.783955Z",
     "shell.execute_reply": "2021-07-18T19:36:22.783384Z",
     "shell.execute_reply.started": "2021-07-15T16:45:15.12423Z"
    },
    "papermill": {
     "duration": 0.037567,
     "end_time": "2021-07-18T19:36:22.784123",
     "exception": false,
     "start_time": "2021-07-18T19:36:22.746556",
     "status": "completed"
    },
    "tags": []
   },
   "outputs": [],
   "source": [
    "# Lines below will give you a hint or solution code\n",
    "#step_1.hint()\n",
    "#step_1.solution()"
   ]
  },
  {
   "cell_type": "markdown",
   "id": "5d6dcf6e",
   "metadata": {
    "papermill": {
     "duration": 0.030144,
     "end_time": "2021-07-18T19:36:22.847380",
     "exception": false,
     "start_time": "2021-07-18T19:36:22.817236",
     "status": "completed"
    },
    "tags": []
   },
   "source": [
    "## Step 2: Review the data\n",
    "\n",
    "Use a Python command to print the first five rows of the data."
   ]
  },
  {
   "cell_type": "code",
   "execution_count": 5,
   "id": "44e38b22",
   "metadata": {
    "execution": {
     "iopub.execute_input": "2021-07-18T19:36:22.914435Z",
     "iopub.status.busy": "2021-07-18T19:36:22.913671Z",
     "iopub.status.idle": "2021-07-18T19:36:22.938694Z",
     "shell.execute_reply": "2021-07-18T19:36:22.939226Z",
     "shell.execute_reply.started": "2021-07-15T16:45:15.130133Z"
    },
    "papermill": {
     "duration": 0.060949,
     "end_time": "2021-07-18T19:36:22.939412",
     "exception": false,
     "start_time": "2021-07-18T19:36:22.878463",
     "status": "completed"
    },
    "tags": []
   },
   "outputs": [
    {
     "data": {
      "text/html": [
       "<div>\n",
       "<style scoped>\n",
       "    .dataframe tbody tr th:only-of-type {\n",
       "        vertical-align: middle;\n",
       "    }\n",
       "\n",
       "    .dataframe tbody tr th {\n",
       "        vertical-align: top;\n",
       "    }\n",
       "\n",
       "    .dataframe thead th {\n",
       "        text-align: right;\n",
       "    }\n",
       "</style>\n",
       "<table border=\"1\" class=\"dataframe\">\n",
       "  <thead>\n",
       "    <tr style=\"text-align: right;\">\n",
       "      <th></th>\n",
       "      <th>competitorname</th>\n",
       "      <th>chocolate</th>\n",
       "      <th>fruity</th>\n",
       "      <th>caramel</th>\n",
       "      <th>peanutyalmondy</th>\n",
       "      <th>nougat</th>\n",
       "      <th>crispedricewafer</th>\n",
       "      <th>hard</th>\n",
       "      <th>bar</th>\n",
       "      <th>pluribus</th>\n",
       "      <th>sugarpercent</th>\n",
       "      <th>pricepercent</th>\n",
       "      <th>winpercent</th>\n",
       "    </tr>\n",
       "    <tr>\n",
       "      <th>id</th>\n",
       "      <th></th>\n",
       "      <th></th>\n",
       "      <th></th>\n",
       "      <th></th>\n",
       "      <th></th>\n",
       "      <th></th>\n",
       "      <th></th>\n",
       "      <th></th>\n",
       "      <th></th>\n",
       "      <th></th>\n",
       "      <th></th>\n",
       "      <th></th>\n",
       "      <th></th>\n",
       "    </tr>\n",
       "  </thead>\n",
       "  <tbody>\n",
       "    <tr>\n",
       "      <th>0</th>\n",
       "      <td>100 Grand</td>\n",
       "      <td>Yes</td>\n",
       "      <td>No</td>\n",
       "      <td>Yes</td>\n",
       "      <td>No</td>\n",
       "      <td>No</td>\n",
       "      <td>Yes</td>\n",
       "      <td>No</td>\n",
       "      <td>Yes</td>\n",
       "      <td>No</td>\n",
       "      <td>0.732</td>\n",
       "      <td>0.860</td>\n",
       "      <td>66.971725</td>\n",
       "    </tr>\n",
       "    <tr>\n",
       "      <th>1</th>\n",
       "      <td>3 Musketeers</td>\n",
       "      <td>Yes</td>\n",
       "      <td>No</td>\n",
       "      <td>No</td>\n",
       "      <td>No</td>\n",
       "      <td>Yes</td>\n",
       "      <td>No</td>\n",
       "      <td>No</td>\n",
       "      <td>Yes</td>\n",
       "      <td>No</td>\n",
       "      <td>0.604</td>\n",
       "      <td>0.511</td>\n",
       "      <td>67.602936</td>\n",
       "    </tr>\n",
       "    <tr>\n",
       "      <th>2</th>\n",
       "      <td>Air Heads</td>\n",
       "      <td>No</td>\n",
       "      <td>Yes</td>\n",
       "      <td>No</td>\n",
       "      <td>No</td>\n",
       "      <td>No</td>\n",
       "      <td>No</td>\n",
       "      <td>No</td>\n",
       "      <td>No</td>\n",
       "      <td>No</td>\n",
       "      <td>0.906</td>\n",
       "      <td>0.511</td>\n",
       "      <td>52.341465</td>\n",
       "    </tr>\n",
       "    <tr>\n",
       "      <th>3</th>\n",
       "      <td>Almond Joy</td>\n",
       "      <td>Yes</td>\n",
       "      <td>No</td>\n",
       "      <td>No</td>\n",
       "      <td>Yes</td>\n",
       "      <td>No</td>\n",
       "      <td>No</td>\n",
       "      <td>No</td>\n",
       "      <td>Yes</td>\n",
       "      <td>No</td>\n",
       "      <td>0.465</td>\n",
       "      <td>0.767</td>\n",
       "      <td>50.347546</td>\n",
       "    </tr>\n",
       "    <tr>\n",
       "      <th>4</th>\n",
       "      <td>Baby Ruth</td>\n",
       "      <td>Yes</td>\n",
       "      <td>No</td>\n",
       "      <td>Yes</td>\n",
       "      <td>Yes</td>\n",
       "      <td>Yes</td>\n",
       "      <td>No</td>\n",
       "      <td>No</td>\n",
       "      <td>Yes</td>\n",
       "      <td>No</td>\n",
       "      <td>0.604</td>\n",
       "      <td>0.767</td>\n",
       "      <td>56.914547</td>\n",
       "    </tr>\n",
       "  </tbody>\n",
       "</table>\n",
       "</div>"
      ],
      "text/plain": [
       "   competitorname chocolate fruity caramel peanutyalmondy nougat  \\\n",
       "id                                                                 \n",
       "0       100 Grand       Yes     No     Yes             No     No   \n",
       "1    3 Musketeers       Yes     No      No             No    Yes   \n",
       "2       Air Heads        No    Yes      No             No     No   \n",
       "3      Almond Joy       Yes     No      No            Yes     No   \n",
       "4       Baby Ruth       Yes     No     Yes            Yes    Yes   \n",
       "\n",
       "   crispedricewafer hard  bar pluribus  sugarpercent  pricepercent  winpercent  \n",
       "id                                                                              \n",
       "0               Yes   No  Yes       No         0.732         0.860   66.971725  \n",
       "1                No   No  Yes       No         0.604         0.511   67.602936  \n",
       "2                No   No   No       No         0.906         0.511   52.341465  \n",
       "3                No   No  Yes       No         0.465         0.767   50.347546  \n",
       "4                No   No  Yes       No         0.604         0.767   56.914547  "
      ]
     },
     "execution_count": 5,
     "metadata": {},
     "output_type": "execute_result"
    }
   ],
   "source": [
    "# Print the first five rows of the data\n",
    "# Your code \n",
    "candy_data.head()"
   ]
  },
  {
   "cell_type": "markdown",
   "id": "ec3bf107",
   "metadata": {
    "papermill": {
     "duration": 0.03108,
     "end_time": "2021-07-18T19:36:23.001421",
     "exception": false,
     "start_time": "2021-07-18T19:36:22.970341",
     "status": "completed"
    },
    "tags": []
   },
   "source": [
    "The dataset contains 83 rows, where each corresponds to a different candy bar.  There are 13 columns:\n",
    "- `'competitorname'` contains the name of the candy bar. \n",
    "- the next **9** columns (from `'chocolate'` to `'pluribus'`) describe the candy.  For instance, rows with chocolate candies have `\"Yes\"` in the `'chocolate'` column (and candies without chocolate have `\"No\"` in the same column).\n",
    "- `'sugarpercent'` provides some indication of the amount of sugar, where higher values signify higher sugar content.\n",
    "- `'pricepercent'` shows the price per unit, relative to the other candies in the dataset.\n",
    "- `'winpercent'` is calculated from the survey results; higher values indicate that the candy was more popular with survey respondents.\n",
    "\n",
    "Use the first five rows of the data to answer the questions below."
   ]
  },
  {
   "cell_type": "code",
   "execution_count": 6,
   "id": "71b5a9ff",
   "metadata": {
    "execution": {
     "iopub.execute_input": "2021-07-18T19:36:23.066251Z",
     "iopub.status.busy": "2021-07-18T19:36:23.065537Z",
     "iopub.status.idle": "2021-07-18T19:36:23.072539Z",
     "shell.execute_reply": "2021-07-18T19:36:23.073063Z",
     "shell.execute_reply.started": "2021-07-15T16:45:15.162183Z"
    },
    "papermill": {
     "duration": 0.041144,
     "end_time": "2021-07-18T19:36:23.073251",
     "exception": false,
     "start_time": "2021-07-18T19:36:23.032107",
     "status": "completed"
    },
    "tags": []
   },
   "outputs": [
    {
     "data": {
      "application/javascript": [
       "parent.postMessage({\"jupyterEvent\": \"custom.exercise_interaction\", \"data\": {\"outcomeType\": 1, \"valueTowardsCompletion\": 0.3333333333333333, \"interactionType\": 1, \"questionType\": 1, \"questionId\": \"2_ReviewData\", \"learnToolsVersion\": \"0.3.4\", \"failureMessage\": \"\", \"exceptionClass\": \"\", \"trace\": \"\"}}, \"*\")"
      ],
      "text/plain": [
       "<IPython.core.display.Javascript object>"
      ]
     },
     "metadata": {},
     "output_type": "display_data"
    },
    {
     "data": {
      "text/markdown": [
       "<span style=\"color:#33cc33\">Correct</span>"
      ],
      "text/plain": [
       "Correct"
      ]
     },
     "metadata": {},
     "output_type": "display_data"
    }
   ],
   "source": [
    "# Fill in the line below: Which candy was more popular with survey respondents:\n",
    "# '3 Musketeers' or 'Almond Joy'?  (Please enclose your answer in single quotes.)\n",
    "more_popular = '3 Musketeers'\n",
    "\n",
    "# Fill in the line below: Which candy has higher sugar content: 'Air Heads'\n",
    "# or 'Baby Ruth'? (Please enclose your answer in single quotes.)\n",
    "more_sugar = 'Air Heads'\n",
    "\n",
    "# Check your answers\n",
    "step_2.check()"
   ]
  },
  {
   "cell_type": "code",
   "execution_count": 7,
   "id": "85137a4f",
   "metadata": {
    "execution": {
     "iopub.execute_input": "2021-07-18T19:36:23.141744Z",
     "iopub.status.busy": "2021-07-18T19:36:23.141036Z",
     "iopub.status.idle": "2021-07-18T19:36:23.144144Z",
     "shell.execute_reply": "2021-07-18T19:36:23.144634Z",
     "shell.execute_reply.started": "2021-07-15T16:45:15.178711Z"
    },
    "papermill": {
     "duration": 0.038323,
     "end_time": "2021-07-18T19:36:23.144808",
     "exception": false,
     "start_time": "2021-07-18T19:36:23.106485",
     "status": "completed"
    },
    "tags": []
   },
   "outputs": [],
   "source": [
    "# Lines below will give you a hint or solution code\n",
    "#step_2.hint()\n",
    "#step_2.solution()"
   ]
  },
  {
   "cell_type": "markdown",
   "id": "ad7b8461",
   "metadata": {
    "papermill": {
     "duration": 0.032092,
     "end_time": "2021-07-18T19:36:23.208939",
     "exception": false,
     "start_time": "2021-07-18T19:36:23.176847",
     "status": "completed"
    },
    "tags": []
   },
   "source": [
    "## Step 3: The role of sugar\n",
    "\n",
    "Do people tend to prefer candies with higher sugar content?  \n",
    "\n",
    "#### Part A\n",
    "\n",
    "Create a scatter plot that shows the relationship between `'sugarpercent'` (on the horizontal x-axis) and `'winpercent'` (on the vertical y-axis).  _Don't add a regression line just yet -- you'll do that in the next step!_"
   ]
  },
  {
   "cell_type": "code",
   "execution_count": 8,
   "id": "263339df",
   "metadata": {
    "execution": {
     "iopub.execute_input": "2021-07-18T19:36:23.275795Z",
     "iopub.status.busy": "2021-07-18T19:36:23.275086Z",
     "iopub.status.idle": "2021-07-18T19:36:23.558112Z",
     "shell.execute_reply": "2021-07-18T19:36:23.557485Z",
     "shell.execute_reply.started": "2021-07-15T16:45:15.188864Z"
    },
    "papermill": {
     "duration": 0.317766,
     "end_time": "2021-07-18T19:36:23.558264",
     "exception": false,
     "start_time": "2021-07-18T19:36:23.240498",
     "status": "completed"
    },
    "tags": []
   },
   "outputs": [
    {
     "data": {
      "application/javascript": [
       "parent.postMessage({\"jupyterEvent\": \"custom.exercise_interaction\", \"data\": {\"outcomeType\": 1, \"valueTowardsCompletion\": 0.3333333333333333, \"interactionType\": 1, \"questionType\": 2, \"questionId\": \"3.1_PlotBlueScatter\", \"learnToolsVersion\": \"0.3.4\", \"failureMessage\": \"\", \"exceptionClass\": \"\", \"trace\": \"\"}}, \"*\")"
      ],
      "text/plain": [
       "<IPython.core.display.Javascript object>"
      ]
     },
     "metadata": {},
     "output_type": "display_data"
    },
    {
     "data": {
      "text/markdown": [
       "<span style=\"color:#33cc33\">Correct</span>"
      ],
      "text/plain": [
       "Correct"
      ]
     },
     "metadata": {},
     "output_type": "display_data"
    },
    {
     "data": {
      "image/png": "[encoded data removed]",
      "text/plain": [
       "<Figure size 432x288 with 1 Axes>"
      ]
     },
     "metadata": {
      "needs_background": "light"
     },
     "output_type": "display_data"
    }
   ],
   "source": [
    "# Scatter plot showing the relationship between 'sugarpercent' and 'winpercent'\n",
    "# Your code here\n",
    "sns.scatterplot(x=candy_data['sugarpercent'],y=candy_data['winpercent'])\n",
    "\n",
    "# Check your answer\n",
    "step_3.a.check()"
   ]
  },
  {
   "cell_type": "code",
   "execution_count": 9,
   "id": "2efd53fd",
   "metadata": {
    "execution": {
     "iopub.execute_input": "2021-07-18T19:36:23.631407Z",
     "iopub.status.busy": "2021-07-18T19:36:23.630627Z",
     "iopub.status.idle": "2021-07-18T19:36:23.633383Z",
     "shell.execute_reply": "2021-07-18T19:36:23.632712Z",
     "shell.execute_reply.started": "2021-07-15T16:45:15.508412Z"
    },
    "papermill": {
     "duration": 0.041167,
     "end_time": "2021-07-18T19:36:23.633616",
     "exception": false,
     "start_time": "2021-07-18T19:36:23.592449",
     "status": "completed"
    },
    "tags": []
   },
   "outputs": [],
   "source": [
    "# Lines below will give you a hint or solution code\n",
    "#step_3.a.hint()\n",
    "#step_3.a.solution_plot()"
   ]
  },
  {
   "cell_type": "markdown",
   "id": "5f7e2a17",
   "metadata": {
    "papermill": {
     "duration": 0.034586,
     "end_time": "2021-07-18T19:36:23.701918",
     "exception": false,
     "start_time": "2021-07-18T19:36:23.667332",
     "status": "completed"
    },
    "tags": []
   },
   "source": [
    "#### Part B\n",
    "\n",
    "Does the scatter plot show a **strong** correlation between the two variables?  If so, are candies with more sugar relatively more or less popular with the survey respondents?"
   ]
  },
  {
   "cell_type": "code",
   "execution_count": 10,
   "id": "8f3f1bbc",
   "metadata": {
    "execution": {
     "iopub.execute_input": "2021-07-18T19:36:23.773198Z",
     "iopub.status.busy": "2021-07-18T19:36:23.772482Z",
     "iopub.status.idle": "2021-07-18T19:36:23.776250Z",
     "shell.execute_reply": "2021-07-18T19:36:23.776766Z",
     "shell.execute_reply.started": "2021-07-15T16:45:15.515675Z"
    },
    "papermill": {
     "duration": 0.041176,
     "end_time": "2021-07-18T19:36:23.776985",
     "exception": false,
     "start_time": "2021-07-18T19:36:23.735809",
     "status": "completed"
    },
    "tags": []
   },
   "outputs": [],
   "source": [
    "#step_3.b.hint()"
   ]
  },
  {
   "cell_type": "code",
   "execution_count": 11,
   "id": "2cd70f72",
   "metadata": {
    "execution": {
     "iopub.execute_input": "2021-07-18T19:36:23.848842Z",
     "iopub.status.busy": "2021-07-18T19:36:23.848142Z",
     "iopub.status.idle": "2021-07-18T19:36:23.855440Z",
     "shell.execute_reply": "2021-07-18T19:36:23.854768Z",
     "shell.execute_reply.started": "2021-07-15T16:45:15.532422Z"
    },
    "papermill": {
     "duration": 0.044886,
     "end_time": "2021-07-18T19:36:23.855595",
     "exception": false,
     "start_time": "2021-07-18T19:36:23.810709",
     "status": "completed"
    },
    "tags": []
   },
   "outputs": [
    {
     "data": {
      "application/javascript": [
       "parent.postMessage({\"jupyterEvent\": \"custom.exercise_interaction\", \"data\": {\"interactionType\": 3, \"questionType\": 4, \"questionId\": \"3.2_ThinkBlueScatter\", \"learnToolsVersion\": \"0.3.4\", \"valueTowardsCompletion\": 0.0, \"failureMessage\": \"\", \"exceptionClass\": \"\", \"trace\": \"\", \"outcomeType\": 4}}, \"*\")"
      ],
      "text/plain": [
       "<IPython.core.display.Javascript object>"
      ]
     },
     "metadata": {},
     "output_type": "display_data"
    },
    {
     "data": {
      "text/markdown": [
       "<span style=\"color:#33cc99\">Solution:</span> The scatter plot does not show a strong correlation between the two variables. Since there is no clear relationship between the two variables, this tells us that sugar content does not play a strong role in candy popularity."
      ],
      "text/plain": [
       "Solution: The scatter plot does not show a strong correlation between the two variables. Since there is no clear relationship between the two variables, this tells us that sugar content does not play a strong role in candy popularity."
      ]
     },
     "metadata": {},
     "output_type": "display_data"
    }
   ],
   "source": [
    "# Check your answer (Run this code cell to receive credit!)\n",
    "step_3.b.solution()"
   ]
  },
  {
   "cell_type": "markdown",
   "id": "496c7f98",
   "metadata": {
    "papermill": {
     "duration": 0.034516,
     "end_time": "2021-07-18T19:36:23.925129",
     "exception": false,
     "start_time": "2021-07-18T19:36:23.890613",
     "status": "completed"
    },
    "tags": []
   },
   "source": [
    "## Step 4: Take a closer look\n",
    "\n",
    "#### Part A\n",
    "\n",
    "Create the same scatter plot you created in **Step 3**, but now with a regression line!"
   ]
  },
  {
   "cell_type": "code",
   "execution_count": 12,
   "id": "ac1e38de",
   "metadata": {
    "execution": {
     "iopub.execute_input": "2021-07-18T19:36:24.017377Z",
     "iopub.status.busy": "2021-07-18T19:36:24.016257Z",
     "iopub.status.idle": "2021-07-18T19:36:24.301958Z",
     "shell.execute_reply": "2021-07-18T19:36:24.301396Z",
     "shell.execute_reply.started": "2021-07-15T16:45:15.548094Z"
    },
    "papermill": {
     "duration": 0.342528,
     "end_time": "2021-07-18T19:36:24.302106",
     "exception": false,
     "start_time": "2021-07-18T19:36:23.959578",
     "status": "completed"
    },
    "tags": []
   },
   "outputs": [
    {
     "data": {
      "application/javascript": [
       "parent.postMessage({\"jupyterEvent\": \"custom.exercise_interaction\", \"data\": {\"outcomeType\": 1, \"valueTowardsCompletion\": 0.3333333333333333, \"interactionType\": 1, \"questionType\": 2, \"questionId\": \"4.1_PlotBlueReg\", \"learnToolsVersion\": \"0.3.4\", \"failureMessage\": \"\", \"exceptionClass\": \"\", \"trace\": \"\"}}, \"*\")"
      ],
      "text/plain": [
       "<IPython.core.display.Javascript object>"
      ]
     },
     "metadata": {},
     "output_type": "display_data"
    },
    {
     "data": {
      "text/markdown": [
       "<span style=\"color:#33cc33\">Correct</span>"
      ],
      "text/plain": [
       "Correct"
      ]
     },
     "metadata": {},
     "output_type": "display_data"
    },
    {
     "data": {
      "image/png": "[encoded data removed]",
      "text/plain": [
       "<Figure size 432x288 with 1 Axes>"
      ]
     },
     "metadata": {
      "needs_background": "light"
     },
     "output_type": "display_data"
    }
   ],
   "source": [
    "# Scatter plot w/ regression line showing the relationship between 'sugarpercent' and 'winpercent'\n",
    "# Your code here\n",
    "sns.regplot(x=candy_data['sugarpercent'],y=candy_data['winpercent'])\n",
    "\n",
    "# Check your answer\n",
    "step_4.a.check()"
   ]
  },
  {
   "cell_type": "code",
   "execution_count": 13,
   "id": "3ce93568",
   "metadata": {
    "execution": {
     "iopub.execute_input": "2021-07-18T19:36:24.380538Z",
     "iopub.status.busy": "2021-07-18T19:36:24.379741Z",
     "iopub.status.idle": "2021-07-18T19:36:24.383153Z",
     "shell.execute_reply": "2021-07-18T19:36:24.383612Z",
     "shell.execute_reply.started": "2021-07-15T16:45:15.849632Z"
    },
    "papermill": {
     "duration": 0.044965,
     "end_time": "2021-07-18T19:36:24.383797",
     "exception": false,
     "start_time": "2021-07-18T19:36:24.338832",
     "status": "completed"
    },
    "tags": []
   },
   "outputs": [],
   "source": [
    "# Lines below will give you a hint or solution code\n",
    "#step_4.a.hint()\n",
    "#step_4.a.solution_plot()"
   ]
  },
  {
   "cell_type": "markdown",
   "id": "8f3a441e",
   "metadata": {
    "papermill": {
     "duration": 0.036478,
     "end_time": "2021-07-18T19:36:24.457043",
     "exception": false,
     "start_time": "2021-07-18T19:36:24.420565",
     "status": "completed"
    },
    "tags": []
   },
   "source": [
    "#### Part B\n",
    "\n",
    "According to the plot above, is there a **slight** correlation between `'winpercent'` and `'sugarpercent'`?  What does this tell you about the candy that people tend to prefer?"
   ]
  },
  {
   "cell_type": "code",
   "execution_count": 14,
   "id": "f1c5df5e",
   "metadata": {
    "execution": {
     "iopub.execute_input": "2021-07-18T19:36:24.534491Z",
     "iopub.status.busy": "2021-07-18T19:36:24.533752Z",
     "iopub.status.idle": "2021-07-18T19:36:24.536342Z",
     "shell.execute_reply": "2021-07-18T19:36:24.535672Z",
     "shell.execute_reply.started": "2021-07-15T16:45:15.855942Z"
    },
    "papermill": {
     "duration": 0.042889,
     "end_time": "2021-07-18T19:36:24.536484",
     "exception": false,
     "start_time": "2021-07-18T19:36:24.493595",
     "status": "completed"
    },
    "tags": []
   },
   "outputs": [],
   "source": [
    "#step_4.b.hint()"
   ]
  },
  {
   "cell_type": "code",
   "execution_count": 15,
   "id": "0e1ea4e4",
   "metadata": {
    "execution": {
     "iopub.execute_input": "2021-07-18T19:36:24.615481Z",
     "iopub.status.busy": "2021-07-18T19:36:24.614611Z",
     "iopub.status.idle": "2021-07-18T19:36:24.619609Z",
     "shell.execute_reply": "2021-07-18T19:36:24.618779Z",
     "shell.execute_reply.started": "2021-07-15T16:45:15.871772Z"
    },
    "papermill": {
     "duration": 0.046534,
     "end_time": "2021-07-18T19:36:24.619779",
     "exception": false,
     "start_time": "2021-07-18T19:36:24.573245",
     "status": "completed"
    },
    "tags": []
   },
   "outputs": [
    {
     "data": {
      "application/javascript": [
       "parent.postMessage({\"jupyterEvent\": \"custom.exercise_interaction\", \"data\": {\"interactionType\": 3, \"questionType\": 4, \"questionId\": \"4.2_ThinkBlueReg\", \"learnToolsVersion\": \"0.3.4\", \"valueTowardsCompletion\": 0.0, \"failureMessage\": \"\", \"exceptionClass\": \"\", \"trace\": \"\", \"outcomeType\": 4}}, \"*\")"
      ],
      "text/plain": [
       "<IPython.core.display.Javascript object>"
      ]
     },
     "metadata": {},
     "output_type": "display_data"
    },
    {
     "data": {
      "text/markdown": [
       "<span style=\"color:#33cc99\">Solution:</span> Since the regression line has a slightly positive slope, this tells us that there is a slightly positive correlation between `'winpercent'` and `'sugarpercent'`. Thus, people have a slight preference for candies containing relatively more sugar."
      ],
      "text/plain": [
       "Solution: Since the regression line has a slightly positive slope, this tells us that there is a slightly positive correlation between `'winpercent'` and `'sugarpercent'`. Thus, people have a slight preference for candies containing relatively more sugar."
      ]
     },
     "metadata": {},
     "output_type": "display_data"
    }
   ],
   "source": [
    "# Check your answer (Run this code cell to receive credit!)\n",
    "step_4.b.solution()"
   ]
  },
  {
   "cell_type": "markdown",
   "id": "50279884",
   "metadata": {
    "papermill": {
     "duration": 0.038213,
     "end_time": "2021-07-18T19:36:24.696209",
     "exception": false,
     "start_time": "2021-07-18T19:36:24.657996",
     "status": "completed"
    },
    "tags": []
   },
   "source": [
    "## Step 5: Chocolate!\n",
    "\n",
    "In the code cell below, create a scatter plot to show the relationship between `'pricepercent'` (on the horizontal x-axis) and `'winpercent'` (on the vertical y-axis). Use the `'chocolate'` column to color-code the points.  _Don't add any regression lines just yet -- you'll do that in the next step!_"
   ]
  },
  {
   "cell_type": "code",
   "execution_count": 16,
   "id": "1a24ccca",
   "metadata": {
    "execution": {
     "iopub.execute_input": "2021-07-18T19:36:24.850628Z",
     "iopub.status.busy": "2021-07-18T19:36:24.819312Z",
     "iopub.status.idle": "2021-07-18T19:36:25.073183Z",
     "shell.execute_reply": "2021-07-18T19:36:25.073678Z",
     "shell.execute_reply.started": "2021-07-15T16:45:15.888964Z"
    },
    "papermill": {
     "duration": 0.339227,
     "end_time": "2021-07-18T19:36:25.073884",
     "exception": false,
     "start_time": "2021-07-18T19:36:24.734657",
     "status": "completed"
    },
    "tags": []
   },
   "outputs": [
    {
     "data": {
      "application/javascript": [
       "parent.postMessage({\"jupyterEvent\": \"custom.exercise_interaction\", \"data\": {\"outcomeType\": 1, \"valueTowardsCompletion\": 0.3333333333333333, \"interactionType\": 1, \"questionType\": 2, \"questionId\": \"5_ColorScatter\", \"learnToolsVersion\": \"0.3.4\", \"failureMessage\": \"\", \"exceptionClass\": \"\", \"trace\": \"\"}}, \"*\")"
      ],
      "text/plain": [
       "<IPython.core.display.Javascript object>"
      ]
     },
     "metadata": {},
     "output_type": "display_data"
    },
    {
     "data": {
      "text/markdown": [
       "<span style=\"color:#33cc33\">Correct</span>"
      ],
      "text/plain": [
       "Correct"
      ]
     },
     "metadata": {},
     "output_type": "display_data"
    },
    {
     "data": {
      "image/png": "[encoded data removed]",
      "text/plain": [
       "<Figure size 432x288 with 1 Axes>"
      ]
     },
     "metadata": {
      "needs_background": "light"
     },
     "output_type": "display_data"
    }
   ],
   "source": [
    "# Scatter plot showing the relationship between 'pricepercent', 'winpercent', and 'chocolate' # Your code here\n",
    "sns.scatterplot(x=candy_data['pricepercent'],y=candy_data['winpercent'],hue=candy_data['chocolate'])\n",
    "# Check your answer\n",
    "step_5.check()"
   ]
  },
  {
   "cell_type": "code",
   "execution_count": 17,
   "id": "125f647c",
   "metadata": {
    "execution": {
     "iopub.execute_input": "2021-07-18T19:36:25.159685Z",
     "iopub.status.busy": "2021-07-18T19:36:25.158954Z",
     "iopub.status.idle": "2021-07-18T19:36:25.162409Z",
     "shell.execute_reply": "2021-07-18T19:36:25.161719Z",
     "shell.execute_reply.started": "2021-07-15T16:45:16.163797Z"
    },
    "papermill": {
     "duration": 0.047164,
     "end_time": "2021-07-18T19:36:25.162553",
     "exception": false,
     "start_time": "2021-07-18T19:36:25.115389",
     "status": "completed"
    },
    "tags": []
   },
   "outputs": [],
   "source": [
    "# Lines below will give you a hint or solution code\n",
    "#step_5.hint()\n",
    "#step_5.solution_plot()"
   ]
  },
  {
   "cell_type": "markdown",
   "id": "e63552d1",
   "metadata": {
    "papermill": {
     "duration": 0.039937,
     "end_time": "2021-07-18T19:36:25.242404",
     "exception": false,
     "start_time": "2021-07-18T19:36:25.202467",
     "status": "completed"
    },
    "tags": []
   },
   "source": [
    "Can you see any interesting patterns in the scatter plot?  We'll investigate this plot further  by adding regression lines in the next step!\n",
    "\n",
    "## Step 6: Investigate chocolate\n",
    "\n",
    "#### Part A\n",
    "\n",
    "Create the same scatter plot you created in **Step 5**, but now with two regression lines, corresponding to (1) chocolate candies and (2) candies without chocolate."
   ]
  },
  {
   "cell_type": "code",
   "execution_count": 18,
   "id": "e1f642d0",
   "metadata": {
    "execution": {
     "iopub.execute_input": "2021-07-18T19:36:25.362711Z",
     "iopub.status.busy": "2021-07-18T19:36:25.352763Z",
     "iopub.status.idle": "2021-07-18T19:36:25.984065Z",
     "shell.execute_reply": "2021-07-18T19:36:25.982928Z",
     "shell.execute_reply.started": "2021-07-15T16:45:16.171465Z"
    },
    "papermill": {
     "duration": 0.702026,
     "end_time": "2021-07-18T19:36:25.984266",
     "exception": false,
     "start_time": "2021-07-18T19:36:25.282240",
     "status": "completed"
    },
    "tags": []
   },
   "outputs": [
    {
     "data": {
      "application/javascript": [
       "parent.postMessage({\"jupyterEvent\": \"custom.exercise_interaction\", \"data\": {\"outcomeType\": 1, \"valueTowardsCompletion\": 0.3333333333333333, \"interactionType\": 1, \"questionType\": 2, \"questionId\": \"6.1_PlotColorReg\", \"learnToolsVersion\": \"0.3.4\", \"failureMessage\": \"\", \"exceptionClass\": \"\", \"trace\": \"\"}}, \"*\")"
      ],
      "text/plain": [
       "<IPython.core.display.Javascript object>"
      ]
     },
     "metadata": {},
     "output_type": "display_data"
    },
    {
     "data": {
      "text/markdown": [
       "<span style=\"color:#33cc33\">Correct</span>"
      ],
      "text/plain": [
       "Correct"
      ]
     },
     "metadata": {},
     "output_type": "display_data"
    },
    {
     "data": {
      "image/png": "[encoded data removed]",
      "text/plain": [
       "<Figure size 416.375x360 with 1 Axes>"
      ]
     },
     "metadata": {
      "needs_background": "light"
     },
     "output_type": "display_data"
    }
   ],
   "source": [
    "# Color-coded scatter plot w/ regression lines\n",
    "# Your code here\n",
    "sns.lmplot(x=\"pricepercent\",y=\"winpercent\",hue=\"chocolate\",data=candy_data)\n",
    "# Check your answer\n",
    "step_6.a.check()"
   ]
  },
  {
   "cell_type": "code",
   "execution_count": 19,
   "id": "b5e128c4",
   "metadata": {
    "execution": {
     "iopub.execute_input": "2021-07-18T19:36:26.079318Z",
     "iopub.status.busy": "2021-07-18T19:36:26.078564Z",
     "iopub.status.idle": "2021-07-18T19:36:26.082160Z",
     "shell.execute_reply": "2021-07-18T19:36:26.081444Z",
     "shell.execute_reply.started": "2021-07-15T16:45:16.822549Z"
    },
    "papermill": {
     "duration": 0.055112,
     "end_time": "2021-07-18T19:36:26.082317",
     "exception": false,
     "start_time": "2021-07-18T19:36:26.027205",
     "status": "completed"
    },
    "tags": []
   },
   "outputs": [],
   "source": [
    "# Lines below will give you a hint or solution code\n",
    "#step_6.a.hint()\n",
    "#step_6.a.solution_plot()"
   ]
  },
  {
   "cell_type": "markdown",
   "id": "06dc6224",
   "metadata": {
    "papermill": {
     "duration": 0.042964,
     "end_time": "2021-07-18T19:36:26.169364",
     "exception": false,
     "start_time": "2021-07-18T19:36:26.126400",
     "status": "completed"
    },
    "tags": []
   },
   "source": [
    "#### Part B\n",
    "\n",
    "Using the regression lines, what conclusions can you draw about the effects of chocolate and price on candy popularity?"
   ]
  },
  {
   "cell_type": "code",
   "execution_count": 20,
   "id": "c4ce37ef",
   "metadata": {
    "execution": {
     "iopub.execute_input": "2021-07-18T19:36:26.257692Z",
     "iopub.status.busy": "2021-07-18T19:36:26.256975Z",
     "iopub.status.idle": "2021-07-18T19:36:26.260762Z",
     "shell.execute_reply": "2021-07-18T19:36:26.260213Z",
     "shell.execute_reply.started": "2021-07-15T16:45:16.828446Z"
    },
    "papermill": {
     "duration": 0.049712,
     "end_time": "2021-07-18T19:36:26.260930",
     "exception": false,
     "start_time": "2021-07-18T19:36:26.211218",
     "status": "completed"
    },
    "tags": []
   },
   "outputs": [],
   "source": [
    "#step_6.b.hint()"
   ]
  },
  {
   "cell_type": "code",
   "execution_count": 21,
   "id": "933b83f8",
   "metadata": {
    "execution": {
     "iopub.execute_input": "2021-07-18T19:36:26.350341Z",
     "iopub.status.busy": "2021-07-18T19:36:26.349611Z",
     "iopub.status.idle": "2021-07-18T19:36:26.355361Z",
     "shell.execute_reply": "2021-07-18T19:36:26.355918Z",
     "shell.execute_reply.started": "2021-07-15T16:45:16.841678Z"
    },
    "papermill": {
     "duration": 0.053081,
     "end_time": "2021-07-18T19:36:26.356115",
     "exception": false,
     "start_time": "2021-07-18T19:36:26.303034",
     "status": "completed"
    },
    "tags": []
   },
   "outputs": [
    {
     "data": {
      "application/javascript": [
       "parent.postMessage({\"jupyterEvent\": \"custom.exercise_interaction\", \"data\": {\"interactionType\": 3, \"questionType\": 4, \"questionId\": \"6.2_ThinkColorReg\", \"learnToolsVersion\": \"0.3.4\", \"valueTowardsCompletion\": 0.0, \"failureMessage\": \"\", \"exceptionClass\": \"\", \"trace\": \"\", \"outcomeType\": 4}}, \"*\")"
      ],
      "text/plain": [
       "<IPython.core.display.Javascript object>"
      ]
     },
     "metadata": {},
     "output_type": "display_data"
    },
    {
     "data": {
      "text/markdown": [
       "<span style=\"color:#33cc99\">Solution:</span> We'll begin with the regression line for chocolate candies. Since this line has a slightly positive slope, we can say that more expensive chocolate candies tend to be more popular (than relatively cheaper chocolate candies).  Likewise, since the regression line for candies without chocolate has a negative slope, we can say that if candies don't contain chocolate, they tend to be more popular when they are cheaper.  One important note, however, is that the dataset is quite small -- so we shouldn't invest too much trust in these patterns!  To inspire more confidence in the results, we should add more candies to the dataset."
      ],
      "text/plain": [
       "Solution: We'll begin with the regression line for chocolate candies. Since this line has a slightly positive slope, we can say that more expensive chocolate candies tend to be more popular (than relatively cheaper chocolate candies).  Likewise, since the regression line for candies without chocolate has a negative slope, we can say that if candies don't contain chocolate, they tend to be more popular when they are cheaper.  One important note, however, is that the dataset is quite small -- so we shouldn't invest too much trust in these patterns!  To inspire more confidence in the results, we should add more candies to the dataset."
      ]
     },
     "metadata": {},
     "output_type": "display_data"
    }
   ],
   "source": [
    "# Check your answer (Run this code cell to receive credit!)\n",
    "step_6.b.solution()"
   ]
  },
  {
   "cell_type": "markdown",
   "id": "c07640c6",
   "metadata": {
    "papermill": {
     "duration": 0.042803,
     "end_time": "2021-07-18T19:36:26.442245",
     "exception": false,
     "start_time": "2021-07-18T19:36:26.399442",
     "status": "completed"
    },
    "tags": []
   },
   "source": [
    "## Step 7: Everybody loves chocolate.\n",
    "\n",
    "#### Part A\n",
    "\n",
    "Create a categorical scatter plot to highlight the relationship between `'chocolate'` and `'winpercent'`.  Put `'chocolate'` on the (horizontal) x-axis, and `'winpercent'` on the (vertical) y-axis."
   ]
  },
  {
   "cell_type": "code",
   "execution_count": 22,
   "id": "3535210c",
   "metadata": {
    "execution": {
     "iopub.execute_input": "2021-07-18T19:36:26.566349Z",
     "iopub.status.busy": "2021-07-18T19:36:26.563365Z",
     "iopub.status.idle": "2021-07-18T19:36:26.742043Z",
     "shell.execute_reply": "2021-07-18T19:36:26.741318Z",
     "shell.execute_reply.started": "2021-07-15T16:45:16.857817Z"
    },
    "papermill": {
     "duration": 0.257164,
     "end_time": "2021-07-18T19:36:26.742249",
     "exception": false,
     "start_time": "2021-07-18T19:36:26.485085",
     "status": "completed"
    },
    "tags": []
   },
   "outputs": [
    {
     "data": {
      "application/javascript": [
       "parent.postMessage({\"jupyterEvent\": \"custom.exercise_interaction\", \"data\": {\"outcomeType\": 1, \"valueTowardsCompletion\": 0.3333333333333333, \"interactionType\": 1, \"questionType\": 2, \"questionId\": \"7.1_PlotSwarm\", \"learnToolsVersion\": \"0.3.4\", \"failureMessage\": \"\", \"exceptionClass\": \"\", \"trace\": \"\"}}, \"*\")"
      ],
      "text/plain": [
       "<IPython.core.display.Javascript object>"
      ]
     },
     "metadata": {},
     "output_type": "display_data"
    },
    {
     "data": {
      "text/markdown": [
       "<span style=\"color:#33cc33\">Correct</span>"
      ],
      "text/plain": [
       "Correct"
      ]
     },
     "metadata": {},
     "output_type": "display_data"
    },
    {
     "data": {
      "image/png": "[encoded data removed]",
      "text/plain": [
       "<Figure size 432x288 with 1 Axes>"
      ]
     },
     "metadata": {
      "needs_background": "light"
     },
     "output_type": "display_data"
    }
   ],
   "source": [
    "# Scatter plot showing the relationship between 'chocolate' and 'winpercent'\n",
    "# Your code here\n",
    "sns.swarmplot(x=candy_data['chocolate'],\n",
    "              y=candy_data['winpercent'])\n",
    "# Check your answer\n",
    "step_7.a.check()"
   ]
  },
  {
   "cell_type": "code",
   "execution_count": 23,
   "id": "8ef5e576",
   "metadata": {
    "execution": {
     "iopub.execute_input": "2021-07-18T19:36:26.834854Z",
     "iopub.status.busy": "2021-07-18T19:36:26.834221Z",
     "iopub.status.idle": "2021-07-18T19:36:26.836191Z",
     "shell.execute_reply": "2021-07-18T19:36:26.836779Z",
     "shell.execute_reply.started": "2021-07-15T16:45:17.171248Z"
    },
    "papermill": {
     "duration": 0.050202,
     "end_time": "2021-07-18T19:36:26.836968",
     "exception": false,
     "start_time": "2021-07-18T19:36:26.786766",
     "status": "completed"
    },
    "tags": []
   },
   "outputs": [],
   "source": [
    "# Lines below will give you a hint or solution code\n",
    "#step_7.a.hint()\n",
    "#step_7.a.solution_plot()"
   ]
  },
  {
   "cell_type": "markdown",
   "id": "d78f52f3",
   "metadata": {
    "papermill": {
     "duration": 0.043724,
     "end_time": "2021-07-18T19:36:26.924771",
     "exception": false,
     "start_time": "2021-07-18T19:36:26.881047",
     "status": "completed"
    },
    "tags": []
   },
   "source": [
    "#### Part B\n",
    "\n",
    "You decide to dedicate a section of your report to the fact that chocolate candies tend to be more popular than candies without chocolate.  Which plot is more appropriate to tell this story: the plot from **Step 6**, or the plot from **Step 7**?"
   ]
  },
  {
   "cell_type": "code",
   "execution_count": 24,
   "id": "8bf2e738",
   "metadata": {
    "execution": {
     "iopub.execute_input": "2021-07-18T19:36:27.018932Z",
     "iopub.status.busy": "2021-07-18T19:36:27.018261Z",
     "iopub.status.idle": "2021-07-18T19:36:27.021264Z",
     "shell.execute_reply": "2021-07-18T19:36:27.020696Z",
     "shell.execute_reply.started": "2021-07-15T16:45:17.177702Z"
    },
    "papermill": {
     "duration": 0.05149,
     "end_time": "2021-07-18T19:36:27.021408",
     "exception": false,
     "start_time": "2021-07-18T19:36:26.969918",
     "status": "completed"
    },
    "tags": []
   },
   "outputs": [],
   "source": [
    "#step_7.b.hint()"
   ]
  },
  {
   "cell_type": "code",
   "execution_count": 25,
   "id": "2f4c0a1c",
   "metadata": {
    "execution": {
     "iopub.execute_input": "2021-07-18T19:36:27.114976Z",
     "iopub.status.busy": "2021-07-18T19:36:27.114201Z",
     "iopub.status.idle": "2021-07-18T19:36:27.119704Z",
     "shell.execute_reply": "2021-07-18T19:36:27.120254Z",
     "shell.execute_reply.started": "2021-07-15T16:45:17.190955Z"
    },
    "papermill": {
     "duration": 0.054949,
     "end_time": "2021-07-18T19:36:27.120436",
     "exception": false,
     "start_time": "2021-07-18T19:36:27.065487",
     "status": "completed"
    },
    "tags": []
   },
   "outputs": [
    {
     "data": {
      "application/javascript": [
       "parent.postMessage({\"jupyterEvent\": \"custom.exercise_interaction\", \"data\": {\"interactionType\": 3, \"questionType\": 4, \"questionId\": \"7.2_ThinkSwarm\", \"learnToolsVersion\": \"0.3.4\", \"valueTowardsCompletion\": 0.0, \"failureMessage\": \"\", \"exceptionClass\": \"\", \"trace\": \"\", \"outcomeType\": 4}}, \"*\")"
      ],
      "text/plain": [
       "<IPython.core.display.Javascript object>"
      ]
     },
     "metadata": {},
     "output_type": "display_data"
    },
    {
     "data": {
      "text/markdown": [
       "<span style=\"color:#33cc99\">Solution:</span> In this case, the categorical scatter plot from **Step 7** is the more appropriate plot. While both plots tell the desired story, the plot from **Step 6** conveys far more information that could distract from the main point."
      ],
      "text/plain": [
       "Solution: In this case, the categorical scatter plot from **Step 7** is the more appropriate plot. While both plots tell the desired story, the plot from **Step 6** conveys far more information that could distract from the main point."
      ]
     },
     "metadata": {},
     "output_type": "display_data"
    }
   ],
   "source": [
    "# Check your answer (Run this code cell to receive credit!)\n",
    "step_7.b.solution()"
   ]
  },
  {
   "cell_type": "markdown",
   "id": "dd1816ce",
   "metadata": {
    "papermill": {
     "duration": 0.044789,
     "end_time": "2021-07-18T19:36:27.210672",
     "exception": false,
     "start_time": "2021-07-18T19:36:27.165883",
     "status": "completed"
    },
    "tags": []
   },
   "source": [
    "## Keep going\n",
    "\n",
    "Explore **[histograms and density plots](https://www.kaggle.com/alexisbcook/distributions)**."
   ]
  },
  {
   "cell_type": "markdown",
   "id": "388d64d6",
   "metadata": {
    "papermill": {
     "duration": 0.045232,
     "end_time": "2021-07-18T19:36:27.301633",
     "exception": false,
     "start_time": "2021-07-18T19:36:27.256401",
     "status": "completed"
    },
    "tags": []
   },
   "source": [
    "---\n",
    "\n",
    "\n",
    "\n",
    "\n",
    "*Have questions or comments? Visit the [Learn Discussion forum](https://www.kaggle.com/learn-forum/161291) to chat with other Learners.*"
   ]
  }
 ],
 "metadata": {
  "kernelspec": {
   "display_name": "Python 3",
   "language": "python",
   "name": "python3"
  },
  "language_info": {
   "codemirror_mode": {
    "name": "ipython",
    "version": 3
   },
   "file_extension": ".py",
   "mimetype": "text/x-python",
   "name": "python",
   "nbconvert_exporter": "python",
   "pygments_lexer": "ipython3",
   "version": "3.7.10"
  },
  "papermill": {
   "default_parameters": {},
   "duration": 16.968365,
   "end_time": "2021-07-18T19:36:28.694528",
   "environment_variables": {},
   "exception": null,
   "input_path": "__notebook__.ipynb",
   "output_path": "__notebook__.ipynb",
   "parameters": {},
   "start_time": "2021-07-18T19:36:11.726163",
   "version": "2.3.3"
  }
 },
 "nbformat": 4,
 "nbformat_minor": 5
}
